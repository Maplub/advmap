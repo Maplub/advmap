{
 "cells": [
  {
   "cell_type": "code",
   "execution_count": 119,
   "metadata": {},
   "outputs": [],
   "source": [
    "from bs4 import BeautifulSoup\n",
    "import csv\n",
    "import urllib\n",
    "html = urllib.request.urlopen('http://203.155.220.118/green-parks-admin//reports/report8-list.php?dcode=1017')\n",
    "soup = BeautifulSoup(html)\n",
    "table = soup.find_all('table')[1]\n",
    "\n",
    "output_rows = []\n",
    "\n",
    "numrows = len(table.findAll('tr'))-2\n",
    "for table_row in table.findAll('tr')[2:numrows]:\n",
    "    columns = table_row.findAll('td')\n",
    "    output_row = []\n",
    "    for column in columns:\n",
    "        output_row.append(column.text)\n",
    "    output_rows.append(output_row)\n",
    "    \n",
    "with open('output5.csv', 'a') as csvfile:\n",
    "    writer = csv.writer(csvfile)\n",
    "    writer.writerows(output_rows)"
   ]
  }
 ],
 "metadata": {
  "kernelspec": {
   "display_name": "Python 3",
   "language": "python",
   "name": "python3"
  },
  "language_info": {
   "codemirror_mode": {
    "name": "ipython",
    "version": 3
   },
   "file_extension": ".py",
   "mimetype": "text/x-python",
   "name": "python",
   "nbconvert_exporter": "python",
   "pygments_lexer": "ipython3",
   "version": "3.7.2"
  }
 },
 "nbformat": 4,
 "nbformat_minor": 2
}
